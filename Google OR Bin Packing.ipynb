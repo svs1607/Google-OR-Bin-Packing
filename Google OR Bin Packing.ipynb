{
  "nbformat": 4,
  "nbformat_minor": 0,
  "metadata": {
    "colab": {
      "provenance": []
    },
    "kernelspec": {
      "name": "python3",
      "display_name": "Python 3"
    },
    "language_info": {
      "name": "python"
    }
  },
  "cells": [
    {
      "cell_type": "markdown",
      "source": [
        "# **Solving the AWS Bin Packing Problem using Google OR Tools**\n"
      ],
      "metadata": {
        "id": "eAvSKweFB_kD"
      }
    },
    {
      "cell_type": "markdown",
      "source": [
        "For my group project, we are working on optimizing AWS's storage service S3. S3 is designed in such a way that there are different types of tiers, each with different properties and use cases, based on how often the data is needed, how long it takes to retrieve the data and more variables. \n",
        "\n",
        "We can also extend the problem of storing a single company's information in different tiers to look at AWS's perspective. Say Amazon themselves have a certain amount of data to be stored, and $x$ number of servers, what is the best way to store the data and to minimize the servers used? This can be solved as a Bin packing problem, with the servers being the bins. \n",
        "\n",
        "Firstly, we will download the packages needed to use OR Tools."
      ],
      "metadata": {
        "id": "mgzbTQSLCNLy"
      }
    },
    {
      "cell_type": "code",
      "source": [
        "!pip install ortools"
      ],
      "metadata": {
        "colab": {
          "base_uri": "https://localhost:8080/"
        },
        "id": "DDz48qOnCBsU",
        "outputId": "e2ffc44a-abaa-4f87-845f-50e25c44d8ef"
      },
      "execution_count": 1,
      "outputs": [
        {
          "output_type": "stream",
          "name": "stdout",
          "text": [
            "Looking in indexes: https://pypi.org/simple, https://us-python.pkg.dev/colab-wheels/public/simple/\n",
            "Collecting ortools\n",
            "  Downloading ortools-9.5.2237-cp38-cp38-manylinux_2_17_x86_64.manylinux2014_x86_64.whl (16.3 MB)\n",
            "\u001b[K     |████████████████████████████████| 16.3 MB 19.4 MB/s \n",
            "\u001b[?25hRequirement already satisfied: numpy>=1.13.3 in /usr/local/lib/python3.8/dist-packages (from ortools) (1.21.6)\n",
            "Collecting protobuf>=4.21.5\n",
            "  Downloading protobuf-4.21.11-cp37-abi3-manylinux2014_x86_64.whl (409 kB)\n",
            "\u001b[K     |████████████████████████████████| 409 kB 40.5 MB/s \n",
            "\u001b[?25hRequirement already satisfied: absl-py>=0.13 in /usr/local/lib/python3.8/dist-packages (from ortools) (1.3.0)\n",
            "Installing collected packages: protobuf, ortools\n",
            "  Attempting uninstall: protobuf\n",
            "    Found existing installation: protobuf 3.19.6\n",
            "    Uninstalling protobuf-3.19.6:\n",
            "      Successfully uninstalled protobuf-3.19.6\n",
            "\u001b[31mERROR: pip's dependency resolver does not currently take into account all the packages that are installed. This behaviour is the source of the following dependency conflicts.\n",
            "tensorflow 2.9.2 requires protobuf<3.20,>=3.9.2, but you have protobuf 4.21.11 which is incompatible.\n",
            "tensorflow-metadata 1.11.0 requires protobuf<4,>=3.13, but you have protobuf 4.21.11 which is incompatible.\n",
            "tensorboard 2.9.1 requires protobuf<3.20,>=3.9.2, but you have protobuf 4.21.11 which is incompatible.\u001b[0m\n",
            "Successfully installed ortools-9.5.2237 protobuf-4.21.11\n"
          ]
        }
      ]
    },
    {
      "cell_type": "code",
      "source": [
        "from ortools.linear_solver import pywraplp"
      ],
      "metadata": {
        "id": "wZWygENzomIG"
      },
      "execution_count": 2,
      "outputs": []
    },
    {
      "cell_type": "markdown",
      "source": [
        "## **Google OR**\n",
        "Google provides two main methods of solving an optimization problem:\n",
        "\n",
        "\n",
        "*   The Linear Optimization Service in Google Apps Script\n",
        "*   MPSolver\n",
        "\n",
        "For this artifact, we will be using the MPSolver through Google OR to solve the bin packing problem. Google OR provides example code for different types of optimization problems and the code used here was taken from that example and modified as needed. MPSolver can solve both linear programming and mixed integer programming problems. If we want to look at pure integer programming, we can also use the CP-SAT Solver provided by Google OR.\n",
        "\n",
        "### **Why Google OR?**\n",
        "There are many different algorithms and tools available to try and solve binpacking problems, but the biggest benefit of the Google OR algorithm is its speed as well as ability to solve large problems without taking too long. An example shown later on in this artifact will demonstrate the speed at which the MPSolver solves the problem, despite the values being fairly large.  \n"
      ],
      "metadata": {
        "id": "ZZNXdtZy8WuY"
      }
    },
    {
      "cell_type": "markdown",
      "source": [
        "## **Defining the problem**\n",
        "\n",
        "The servers have different attributes, such as where they are located, and how much they can store, but for this use case, let us assume that all the servers across the world can store upto 5000 GB of data. \n",
        "\n",
        "AWS has over 120 data centers across the globe, which is where the data is stored. As this is an obviously large number of data centers, to simplify it, AWS has regions which cluster these data centers. We will also be dealing with regions in this artifact, and not data centers, as there are far too many data centers to optimize this problem in a simple manner. \n",
        "\n",
        "Each continent or large markets have a set of regions. For this artifact, I will be looking specifically at each large market, and seeing how to optimize the regions within the market. The large markets and regions can be simplified as found below. \n",
        "\n",
        "| Market | Number of regions |\n",
        "|--------|-------------------|\n",
        "| United States | 4 |\n",
        "| United States (Sensitive data) | 2 |\n",
        "| Americas | 3 |\n",
        "| Europe | 8 |\n",
        "| Asia Pacific | 13 |\n",
        "| Middle East and Africa | 4 |\n",
        "\n",
        "We will not be looking at the United States (Sensitive data) market as there are only two servers and the bin packing problem may become obsolete with so few bins. Let us then look at the other problems for each of the regions. Let's assume that across all regions the type and amount of data stored is the same as such: \n",
        "\n",
        "| Data Type | Amount (GB) |\n",
        "|-----------|-------------|\n",
        "| Photos | 972 |\n",
        "| PDFs | 1328 | \n",
        "| `.ipynb` files | 755.4 |\n",
        "| `.docx` files | 1229.2 |\n",
        "| `.xlsx` files | 2003.12 |\n",
        "\n",
        "We will now solve the problem for each region with this amount of data. The code for this was the base example bin packing code provided by Google OR on their website. The function below creates the data model, with the set amount of data that we have and the number of bins. "
      ],
      "metadata": {
        "id": "SidfwBh2DHh7"
      }
    },
    {
      "cell_type": "code",
      "source": [
        "def create_data_model():\n",
        "    \"\"\"Create the data for the example.\"\"\"\n",
        "    data = {}\n",
        "    weights = [972, 1328, 755.4, 1229.2, 2003.12]\n",
        "    data['weights'] = weights\n",
        "    data['items'] = list(range(len(weights)))\n",
        "    data['regions'] = [0, 1, 2, 3]\n",
        "    data['region_capacity'] = 5000\n",
        "    return data"
      ],
      "metadata": {
        "id": "vyK31iJ4pLLU"
      },
      "execution_count": 3,
      "outputs": []
    },
    {
      "cell_type": "markdown",
      "source": [
        "The solver below is declared using `pywraplp` which is a Python wrapper for the C++ linear solver. This example uses the SCIP backend."
      ],
      "metadata": {
        "id": "Mh86ywcY-LxD"
      }
    },
    {
      "cell_type": "code",
      "source": [
        "solver = pywraplp.Solver.CreateSolver('SCIP')\n"
      ],
      "metadata": {
        "id": "xWk8ggo2Mnzr"
      },
      "execution_count": 4,
      "outputs": []
    },
    {
      "cell_type": "markdown",
      "source": [
        "Below, we will then create the data model for all of our different regions. The function creates the model with only 4 regions, so for the regions with a different number of regions, we will change the value for that as well."
      ],
      "metadata": {
        "id": "P8_gEq-2dFZB"
      }
    },
    {
      "cell_type": "code",
      "source": [
        "# us = United States\n",
        "# americas = Americas\n",
        "# eu = Europe\n",
        "# apac = Asia Pacific\n",
        "# me = Middle East and Africa\n",
        "\n",
        "data_us = create_data_model()\n",
        "data_americas = create_data_model()\n",
        "data_eu = create_data_model()\n",
        "data_apac = create_data_model()\n",
        "data_me = create_data_model()\n",
        "data_americas['regions'] = [0, 1, 2]\n",
        "data_eu['regions'] = [0, 1, 2, 3, 4, 5, 6, 7]\n",
        "data_apac['regions'] = [0, 1, 2, 3, 4, 5, 6, 7, 8, 9, 10, 11, 12]\n"
      ],
      "metadata": {
        "id": "HfaPjtiWK1a-"
      },
      "execution_count": 5,
      "outputs": []
    },
    {
      "cell_type": "markdown",
      "source": [
        "Next we will create a function that uses the Google OR tool solver to find the solution to this problem, and prints out the result. "
      ],
      "metadata": {
        "id": "LcNfWW68dbGe"
      }
    },
    {
      "cell_type": "code",
      "source": [
        "\n",
        "def solve(data):\n",
        "# Variables\n",
        "# x[i, j] = 1 if item i is packed in bin j.\n",
        "  x = {}\n",
        "  for i in data['items']:\n",
        "      for j in data['regions']:\n",
        "          x[(i, j)] = solver.IntVar(0, 1, 'x_%i_%i' % (i, j))\n",
        "\n",
        "# y[j] = 1 if bin j is used.\n",
        "  y = {}\n",
        "  for j in data['regions']:\n",
        "      y[j] = solver.IntVar(0, 1, 'y[%i]' % j)\n",
        "  for i in data['items']:\n",
        "    solver.Add(sum(x[i, j] for j in data['regions']) == 1)\n",
        "\n",
        "# The amount packed in each bin cannot exceed its capacity.\n",
        "  for j in data['regions']:\n",
        "      solver.Add(\n",
        "          sum(x[(i, j)] * data['weights'][i] for i in data['items']) <= y[j] *\n",
        "          data['region_capacity'])\n",
        "      \n",
        "  solver.Minimize(solver.Sum([y[j] for j in data['regions']]))\n",
        "  status = solver.Solve()\n",
        "  if status == pywraplp.Solver.OPTIMAL:\n",
        "    num_regions = 0.\n",
        "    for j in data['regions']:\n",
        "      if y[j].solution_value() == 1:\n",
        "        region_items = []\n",
        "        region_weight = 0\n",
        "        for i in data['items']:\n",
        "          if x[i, j].solution_value() > 0:\n",
        "            region_items.append(i)\n",
        "            region_weight += data['weights'][i]\n",
        "        if region_weight > 0:\n",
        "          num_regions += 1\n",
        "          print('Region number', j)\n",
        "          print('Items packed:', region_items)\n",
        "          print('Total amount:', region_weight)\n",
        "          print()\n",
        "    print()\n",
        "    print('Number of regions used:', num_regions)\n",
        "    print('Time = ', solver.WallTime(), ' milliseconds')\n",
        "  else:\n",
        "      print('The problem does not have an optimal solution.')\n",
        "      print(status)\n"
      ],
      "metadata": {
        "id": "WYCN6EGPMqaM"
      },
      "execution_count": 6,
      "outputs": []
    },
    {
      "cell_type": "markdown",
      "source": [
        "### **What is the function above doing?**\n",
        "Before we solve our problem, let's take a look at what the function and the commands are doing.\n",
        "\n",
        "- `solver.IntVar` assigns the integer value to the $x$ and $y$ variables, depending on whether an item has been packed in the bin or not.\n",
        "- `solver.Add` lets us add constraints to the problem.\n",
        "- As we're looking at how long OR takes, we want to find the wall time of the solver as well."
      ],
      "metadata": {
        "id": "2qq33fW-4VCI"
      }
    },
    {
      "cell_type": "code",
      "source": [
        "solve(data_us)"
      ],
      "metadata": {
        "id": "Uu83PRxHK6pN",
        "colab": {
          "base_uri": "https://localhost:8080/"
        },
        "outputId": "cc8cd5b3-3d55-463e-beb9-9c3bc265c0bc"
      },
      "execution_count": 7,
      "outputs": [
        {
          "output_type": "stream",
          "name": "stdout",
          "text": [
            "Region number 0\n",
            "Items packed: [0, 1, 2, 3]\n",
            "Total amount: 4284.6\n",
            "\n",
            "Region number 1\n",
            "Items packed: [4]\n",
            "Total amount: 2003.12\n",
            "\n",
            "\n",
            "Number of regions used: 2.0\n",
            "Time =  56  milliseconds\n"
          ]
        }
      ]
    },
    {
      "cell_type": "code",
      "source": [
        "solve(data_eu)"
      ],
      "metadata": {
        "id": "1kzRkwcO5DwN",
        "colab": {
          "base_uri": "https://localhost:8080/"
        },
        "outputId": "82732a5f-9c47-4f4e-9d37-a0979f6cfd94"
      },
      "execution_count": 8,
      "outputs": [
        {
          "output_type": "stream",
          "name": "stdout",
          "text": [
            "Region number 0\n",
            "Items packed: [0, 2, 3, 4]\n",
            "Total amount: 4959.72\n",
            "\n",
            "Region number 1\n",
            "Items packed: [1]\n",
            "Total amount: 1328\n",
            "\n",
            "\n",
            "Number of regions used: 2.0\n",
            "Time =  91  milliseconds\n"
          ]
        }
      ]
    },
    {
      "cell_type": "code",
      "source": [
        "solve(data_apac)"
      ],
      "metadata": {
        "colab": {
          "base_uri": "https://localhost:8080/"
        },
        "id": "OJSy27zdLVTB",
        "outputId": "ef75cd89-3e3c-4645-b2a6-c44d3974bea3"
      },
      "execution_count": 9,
      "outputs": [
        {
          "output_type": "stream",
          "name": "stdout",
          "text": [
            "Region number 0\n",
            "Items packed: [0, 2, 3, 4]\n",
            "Total amount: 4959.72\n",
            "\n",
            "Region number 1\n",
            "Items packed: [1]\n",
            "Total amount: 1328\n",
            "\n",
            "\n",
            "Number of regions used: 2.0\n",
            "Time =  126  milliseconds\n"
          ]
        }
      ]
    },
    {
      "cell_type": "code",
      "source": [
        "solve(data_me)"
      ],
      "metadata": {
        "colab": {
          "base_uri": "https://localhost:8080/"
        },
        "id": "o9Gf5PdzLYQK",
        "outputId": "75272a81-bf3a-443a-bc38-8a99f7ddd62d"
      },
      "execution_count": 10,
      "outputs": [
        {
          "output_type": "stream",
          "name": "stdout",
          "text": [
            "Region number 0\n",
            "Items packed: [1, 2]\n",
            "Total amount: 2083.4\n",
            "\n",
            "Region number 3\n",
            "Items packed: [0, 3, 4]\n",
            "Total amount: 4204.32\n",
            "\n",
            "\n",
            "Number of regions used: 2.0\n",
            "Time =  152  milliseconds\n"
          ]
        }
      ]
    },
    {
      "cell_type": "markdown",
      "source": [
        "From this, we can see how the different servers in the different regions can be used to optimize the same amount of data. We'll now see how Google OR handles this for larger amounts of data. \n",
        "\n",
        "\n",
        "Consider the same problem, but with more data:\n",
        "\n",
        "| Data Type | Amount (GB) |\n",
        "|-----------|-------------|\n",
        "| Photos | 802033.4 |\n",
        "| PDFs | 537302.22 | \n",
        "| `.ipynb` files | 782932.90 |\n",
        "| `.docx` files | 662390.29 |\n",
        "| `.xlsx` files | 1002343.223 |\n",
        "| `.txt` files | 49068.71 |\n",
        "| `.html` files | 120812.77 |\n",
        "\n",
        "with a capacity of 1000000 GB for each region."
      ],
      "metadata": {
        "id": "n2cga72v37L0"
      }
    },
    {
      "cell_type": "code",
      "source": [
        "def create_data_model_2():\n",
        "    \"\"\"Create the data for the example.\"\"\"\n",
        "    data = {}\n",
        "    weights = [802033.4, 537302.22, 782932.9, 662390.29, 1002343.223, 49068.71, 120812.77]\n",
        "    data['weights'] = weights\n",
        "    data['items'] = list(range(len(weights)))\n",
        "    data['regions'] = [0, 1, 2, 3]\n",
        "    data['region_capacity'] = 10000000\n",
        "    return data"
      ],
      "metadata": {
        "id": "zi_jQXB14kBt"
      },
      "execution_count": 14,
      "outputs": []
    },
    {
      "cell_type": "code",
      "source": [
        "data_us_2 = create_data_model_2()\n",
        "data_americas_2 = create_data_model_2()\n",
        "data_eu_2 = create_data_model_2()\n",
        "data_apac_2 = create_data_model_2()\n",
        "data_me_2 = create_data_model_2()\n",
        "data_americas_2['bins'] = [0, 1, 2]\n",
        "data_eu_2['bins'] = [0, 1, 2, 3, 4, 5, 6, 7]\n",
        "data_apac_2['bins'] = [0, 1, 2, 3, 4, 5, 6, 7, 8, 9, 10, 11, 12]\n"
      ],
      "metadata": {
        "id": "jSG5ro-O4tX3"
      },
      "execution_count": 15,
      "outputs": []
    },
    {
      "cell_type": "code",
      "source": [
        "solve(data_us_2)"
      ],
      "metadata": {
        "colab": {
          "base_uri": "https://localhost:8080/"
        },
        "id": "Vv0R835Q46yA",
        "outputId": "e934778f-f248-44db-e109-ea8d87a56035"
      },
      "execution_count": 16,
      "outputs": [
        {
          "output_type": "stream",
          "name": "stdout",
          "text": [
            "Region number 0\n",
            "Items packed: [0, 1, 2, 3, 4, 5, 6]\n",
            "Total amount: 3956883.513\n",
            "\n",
            "\n",
            "Number of regions used: 1.0\n",
            "Time =  80816  milliseconds\n"
          ]
        }
      ]
    },
    {
      "cell_type": "code",
      "source": [
        "solve(data_americas_2)"
      ],
      "metadata": {
        "colab": {
          "base_uri": "https://localhost:8080/"
        },
        "id": "-Esvh3zW6hRU",
        "outputId": "5d5a7fbc-4497-4022-8002-86ab83d8136a"
      },
      "execution_count": 17,
      "outputs": [
        {
          "output_type": "stream",
          "name": "stdout",
          "text": [
            "Region number 0\n",
            "Items packed: [0, 1, 2, 3, 4, 5, 6]\n",
            "Total amount: 3956883.513\n",
            "\n",
            "\n",
            "Number of regions used: 1.0\n",
            "Time =  80854  milliseconds\n"
          ]
        }
      ]
    },
    {
      "cell_type": "code",
      "source": [
        "solve(data_eu_2)"
      ],
      "metadata": {
        "colab": {
          "base_uri": "https://localhost:8080/"
        },
        "id": "eysHy7Hj6ju2",
        "outputId": "0aa51249-67b2-4666-cb2f-a89957fc002c"
      },
      "execution_count": 18,
      "outputs": [
        {
          "output_type": "stream",
          "name": "stdout",
          "text": [
            "Region number 0\n",
            "Items packed: [0, 1, 2, 3, 4, 5, 6]\n",
            "Total amount: 3956883.513\n",
            "\n",
            "\n",
            "Number of regions used: 1.0\n",
            "Time =  81022  milliseconds\n"
          ]
        }
      ]
    },
    {
      "cell_type": "code",
      "source": [
        "solve(data_apac_2)"
      ],
      "metadata": {
        "colab": {
          "base_uri": "https://localhost:8080/"
        },
        "id": "aIhSDmgT6mnX",
        "outputId": "962a95b6-f9e3-4c10-9ae1-c98d1772b447"
      },
      "execution_count": 19,
      "outputs": [
        {
          "output_type": "stream",
          "name": "stdout",
          "text": [
            "Region number 0\n",
            "Items packed: [0, 1, 2, 3, 4, 5, 6]\n",
            "Total amount: 3956883.513\n",
            "\n",
            "\n",
            "Number of regions used: 1.0\n",
            "Time =  81197  milliseconds\n"
          ]
        }
      ]
    },
    {
      "cell_type": "code",
      "source": [
        "solve(data_me_2)"
      ],
      "metadata": {
        "colab": {
          "base_uri": "https://localhost:8080/"
        },
        "id": "I5sV_Q0D6omd",
        "outputId": "a9f9c4a8-a221-4ceb-f54c-eb34b9c87298"
      },
      "execution_count": 20,
      "outputs": [
        {
          "output_type": "stream",
          "name": "stdout",
          "text": [
            "Region number 1\n",
            "Items packed: [0, 1, 2, 3, 4, 5, 6]\n",
            "Total amount: 3956883.513\n",
            "\n",
            "\n",
            "Number of regions used: 1.0\n",
            "Time =  83741  milliseconds\n"
          ]
        }
      ]
    },
    {
      "cell_type": "markdown",
      "source": [
        "As we can see here, Google OR is able to solve the problem for large amounts of data as well, and it's able to do it in an extremely short period of time. While this is still a relatively simple optimization problem, it would be interesting to see how OR can solve more complicated problems. "
      ],
      "metadata": {
        "id": "b-9Atkue7FyU"
      }
    },
    {
      "cell_type": "markdown",
      "source": [
        "### References\n",
        "\n",
        "Google. (n.d.). The bin packing problem &nbsp;|&nbsp; or-tools &nbsp;|&nbsp; google developers. Google. Retrieved November 25, 2022, from https://developers.google.com/optimization/bin/bin_packing \n",
        "\n",
        "PYWRAPLP. pywraplp API documentation. (n.d.). Retrieved December 9, 2022, from https://google.github.io/or-tools/python/ortools/linear_solver/pywraplp.html#Solver.IntVar "
      ],
      "metadata": {
        "id": "odw1Vwq9mjUH"
      }
    }
  ]
}